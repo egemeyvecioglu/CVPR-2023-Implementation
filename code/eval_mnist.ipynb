{
  "cells": [
    {
      "cell_type": "markdown",
      "metadata": {
        "id": "I44pWwJfUqCm"
      },
      "source": [
        "# Evaluate for SVHN\n"
      ]
    },
    {
      "cell_type": "code",
      "execution_count": null,
      "metadata": {
        "colab": {
          "base_uri": "https://localhost:8080/"
        },
        "id": "BB1iT0Il_Nch",
        "outputId": "12df9aae-a289-415d-aaa7-5a0a778e9164"
      },
      "outputs": [],
      "source": [
        "from models import LeNet\n",
        "import torch\n",
        "import torch.nn as nn\n",
        "import torch.optim as optim\n",
        "import torchvision.transforms as transforms\n",
        "import torchvision.datasets as datasets\n",
        "from torch.utils.data import DataLoader\n",
        "\n",
        "transform = transforms.Compose([\n",
        "    transforms.ToTensor(),\n",
        "\n",
        "])\n",
        "device = \"cuda\"\n",
        "test_dataset = datasets.SVHN(root='./data/mnist', split='test', download=True, transform=transform)\n",
        "test_loader = DataLoader(test_dataset, batch_size=4, shuffle=False)\n",
        "\n",
        "# Initialize the model\n",
        "model = LeNet().to(device)\n",
        "path = \"/home/kovan-beta/CENG502-Spring2024/MeyveciogluSanli/code/digits_mnist_best_model_weights.pth\"\n",
        "model.load_state_dict(torch.load(path))  # Replace with your model's path\n",
        "model.eval()\n",
        "\n",
        "# Evaluate the model\n",
        "correct = 0\n",
        "total = 0\n",
        "\n",
        "with torch.no_grad():\n",
        "    for images, labels in test_loader:\n",
        "        outputs = model(images.to(device))\n",
        "        _, predicted = torch.max(outputs.data, 1)\n",
        "        total += labels.size(0)\n",
        "        correct += (predicted == labels.to(device)).sum().item()\n",
        "\n",
        "accuracy = 100 * correct / total\n",
        "print('Test Accuracy: {:.2f}%'.format(accuracy))"
      ]
    },
    {
      "cell_type": "markdown",
      "metadata": {
        "id": "ZgramOFmUxeZ"
      },
      "source": [
        "# Evaluate for USPS\n"
      ]
    },
    {
      "cell_type": "code",
      "execution_count": null,
      "metadata": {
        "colab": {
          "base_uri": "https://localhost:8080/"
        },
        "id": "o3M4D6FnJb7m",
        "outputId": "a6e003e9-f846-4401-e1fe-f92210b53d98"
      },
      "outputs": [],
      "source": [
        "from models import LeNet\n",
        "import torch\n",
        "import torch.nn as nn\n",
        "import torch.optim as optim\n",
        "import torchvision.transforms as transforms\n",
        "import torchvision.datasets as datasets\n",
        "from torch.utils.data import DataLoader\n",
        "\n",
        "transform = transforms.Compose([\n",
        "    transforms.Grayscale(num_output_channels=3),  # Convert to 3 channels\n",
        "    transforms.Resize((32, 32)),  # Resize images to 32x32\n",
        "    transforms.ToTensor(),\n",
        "])\n",
        "device = \"cuda\"\n",
        "test_dataset = datasets.USPS(root='./data/mnist', train=False, download=True, transform=transform)\n",
        "test_loader = DataLoader(test_dataset, batch_size=64, shuffle=False)\n",
        "\n",
        "# Initialize the model\n",
        "model = LeNet().to(device)\n",
        "path = \"/home/kovan-beta/CENG502-Spring2024/MeyveciogluSanli/code/digits_mnist_best_model_weights.pth\"\n",
        "model.load_state_dict(torch.load(path))  # Replace with your model's path\n",
        "model.eval()\n",
        "\n",
        "# Evaluate the model\n",
        "correct = 0\n",
        "total = 0\n",
        "\n",
        "with torch.no_grad():\n",
        "    for images, labels in test_loader:\n",
        "        outputs = model(images.to(device))\n",
        "        _, predicted = torch.max(outputs.data, 1)\n",
        "        total += labels.size(0)\n",
        "        correct += (predicted == labels.to(device)).sum().item()\n",
        "\n",
        "accuracy = 100 * correct / total\n",
        "print('Test Accuracy: {:.2f}%'.format(accuracy))"
      ]
    },
    {
      "cell_type": "markdown",
      "metadata": {
        "id": "UPtVgCAnU1Of"
      },
      "source": [
        "# Evaluate for MNIST-M\n"
      ]
    },
    {
      "cell_type": "code",
      "execution_count": null,
      "metadata": {
        "colab": {
          "base_uri": "https://localhost:8080/"
        },
        "id": "diKoRyMySAQS",
        "outputId": "fbc81b59-6e0f-47a3-c3d2-6040ce5a3219"
      },
      "outputs": [],
      "source": [
        "from models import LeNet\n",
        "import torch\n",
        "import torch.nn as nn\n",
        "import torch.optim as optim\n",
        "import torchvision.transforms as transforms\n",
        "import torchvision.datasets as datasets\n",
        "from torch.utils.data import DataLoader\n",
        "from mnist_m import MNISTM\n",
        "transform = transforms.Compose([\n",
        "    transforms.Grayscale(num_output_channels=3),  # Convert to 3 channels\n",
        "    transforms.Resize((32, 32)),  # Resize images to 32x32\n",
        "    transforms.ToTensor(),\n",
        "])\n",
        "device = \"cuda\"\n",
        "test_dataset = MNISTM(root='./data', train=False, download=True, transform=transform)\n",
        "test_loader = DataLoader(test_dataset, batch_size=64, shuffle=False)\n",
        "\n",
        "# Initialize the model\n",
        "model = LeNet().to(device)\n",
        "model.load_state_dict(torch.load('model.pth'))  # Replace with your model's path\n",
        "model.eval()\n",
        "\n",
        "# Evaluate the model\n",
        "correct = 0\n",
        "total = 0\n",
        "\n",
        "with torch.no_grad():\n",
        "    for images, labels in test_loader:\n",
        "        outputs = model(images.to(device))\n",
        "        _, predicted = torch.max(outputs.data, 1)\n",
        "        total += labels.size(0)\n",
        "        correct += (predicted == labels.to(device)).sum().item()\n",
        "\n",
        "accuracy = 100 * correct / total\n",
        "print('Test Accuracy: {:.2f}%'.format(accuracy))"
      ]
    },
    {
      "cell_type": "markdown",
      "metadata": {
        "id": "bJeHRKI9U5Cj"
      },
      "source": [
        "# Evaluate for SynthDigit"
      ]
    },
    {
      "cell_type": "code",
      "execution_count": null,
      "metadata": {
        "colab": {
          "base_uri": "https://localhost:8080/",
          "height": 352
        },
        "id": "mk_mMOTKTpxd",
        "outputId": "c62dccc0-0fc2-48bf-eea0-adfd6aabafe3"
      },
      "outputs": [],
      "source": [
        "from models import LeNet\n",
        "import torch\n",
        "import torch.nn as nn\n",
        "import torch.optim as optim\n",
        "import torchvision.transforms as transforms\n",
        "import torchvision.datasets as datasets\n",
        "from torch.utils.data import DataLoader\n",
        "from mnist_m import MNISTM\n",
        "from synth_digit import SynthDigit\n",
        "transform = transforms.Compose([\n",
        "    transforms.Grayscale(num_output_channels=3),  # Convert to 3 channels\n",
        "    transforms.Resize((32, 32)),  # Resize images to 32x32\n",
        "    transforms.ToTensor(),\n",
        "])\n",
        "device = \"cuda\"\n",
        "test_dataset = SynthDigit(root='./data', train=False, transform=transform)\n",
        "test_loader = DataLoader(test_dataset, batch_size=64, shuffle=False)\n",
        "\n",
        "# Initialize the model\n",
        "model = LeNet().to(device)\n",
        "model.load_state_dict(torch.load('model.pth'))  # Replace with your model's path\n",
        "model.eval()\n",
        "\n",
        "# Evaluate the model\n",
        "correct = 0\n",
        "total = 0\n",
        "\n",
        "with torch.no_grad():\n",
        "    for images, labels in test_loader:\n",
        "        outputs = model(images.to(device))\n",
        "        _, predicted = torch.max(outputs.data, 1)\n",
        "        total += labels.size(0)\n",
        "        correct += (predicted == labels.to(device)).sum().item()\n",
        "\n",
        "accuracy = 100 * correct / total\n",
        "print('Test Accuracy: {:.2f}%'.format(accuracy))"
      ]
    }
  ],
  "metadata": {
    "accelerator": "GPU",
    "colab": {
      "gpuType": "L4",
      "provenance": []
    },
    "kernelspec": {
      "display_name": "Python 3",
      "name": "python3"
    },
    "language_info": {
      "codemirror_mode": {
        "name": "ipython",
        "version": 3
      },
      "file_extension": ".py",
      "mimetype": "text/x-python",
      "name": "python",
      "nbconvert_exporter": "python",
      "pygments_lexer": "ipython3",
      "version": "3.10.14"
    }
  },
  "nbformat": 4,
  "nbformat_minor": 0
}
